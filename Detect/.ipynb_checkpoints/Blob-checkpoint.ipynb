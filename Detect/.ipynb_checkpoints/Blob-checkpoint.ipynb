{
 "cells": [
  {
   "cell_type": "code",
   "execution_count": null,
   "metadata": {},
   "outputs": [
    {
     "name": "stdout",
     "output_type": "stream",
     "text": [
      "0\n"
     ]
    }
   ],
   "source": [
    "  \n",
    "import cv2\n",
    "import numpy as np\n",
    "\n",
    "# Read in the image in grayscale\n",
    "#img = cv2.imread('test.jpg', cv2.IMREAD_GRAYSCALE)\n",
    "img = cv2.imread('test.jpg')\n",
    "cv2.imshow(\"l*a*b\",img)\n",
    "\"\"\"\n",
    "lab = cv2.cvtColor(img,cv2.COLOR_BGR2HSV)\n",
    "H,S,V=cv2.split(lab)\n",
    "\"\"\"\n",
    "lab = cv2.cvtColor(img,cv2.COLOR_BGR2LAB)\n",
    "\n",
    "L,A,B=cv2.split(lab)\n",
    "cv2.imshow(\"l*a*b\",img)\n",
    "\n",
    "#A_RGB = cv2.cvtColor(A,cv2.COLOR_LAB2RGB)\n",
    "\n",
    "# Setup SimpleBlobDetector parameters.\n",
    "params = cv2.SimpleBlobDetector_Params()\n",
    "\n",
    "params.filterByColor=1\n",
    "params.blobColor=  np.array([68,0,0])\n",
    "\n",
    "\n",
    "\n",
    "\"\"\"\n",
    "# Change thresholds\n",
    "params.minThreshold = 10;\n",
    "params.maxThreshold = 200;\n",
    " \n",
    "# Filter by Area.\n",
    "params.filterByArea = True\n",
    "params.minArea = 1500\n",
    " \n",
    "# Filter by Circularity\n",
    "params.filterByCircularity = True\n",
    "params.minCircularity = 0.1\n",
    " \n",
    "# Filter by Convexity\n",
    "params.filterByConvexity = True\n",
    "params.minConvexity = 0.87\n",
    " \n",
    "# Filter by Inertia\n",
    "params.filterByInertia = True\n",
    "params.minInertiaRatio = 0.01\n",
    "\"\"\"\n",
    "# Determine which openCV version were using\n",
    "if cv2.__version__.startswith('2.'):\n",
    "    detector = cv2.SimpleBlobDetector()\n",
    "else:\n",
    "    detector = cv2.SimpleBlobDetector_create()\n",
    "\n",
    "# Detect the blobs in the image\n",
    "keypoints = detector.detect(A)\n",
    "print(len(keypoints))\n",
    "\n",
    "# Draw detected keypoints as red circles\n",
    "imgKeyPoints = cv2.drawKeypoints(A, keypoints, np.array([]), (0,0,255), cv2.DRAW_MATCHES_FLAGS_DRAW_RICH_KEYPOINTS)\n",
    "\n",
    "#cv2.imshow(\"L_Channel\",L) # For L Channel\n",
    "#cv2.imshow(\"A_Channel\",imgKeyPoints) # For A Channel \n",
    "#cv2.imshow(\"B_Channel\",B) # For B Channel\n",
    "\n",
    "    \n",
    "# Display found keypoints\n",
    "cv2.imshow(\"Keypoints\", imgKeyPoints)\n",
    "cv2.imwrite('output_lab.jpg', imgKeyPoints)\n",
    "\n",
    "cv2.waitKey(0)\n",
    "\n",
    "cv2.destroyAllWindows()"
   ]
  },
  {
   "cell_type": "code",
   "execution_count": null,
   "metadata": {},
   "outputs": [],
   "source": []
  },
  {
   "cell_type": "code",
   "execution_count": null,
   "metadata": {},
   "outputs": [],
   "source": []
  },
  {
   "cell_type": "code",
   "execution_count": null,
   "metadata": {},
   "outputs": [],
   "source": []
  },
  {
   "cell_type": "code",
   "execution_count": null,
   "metadata": {},
   "outputs": [],
   "source": []
  },
  {
   "cell_type": "code",
   "execution_count": null,
   "metadata": {},
   "outputs": [],
   "source": []
  },
  {
   "cell_type": "code",
   "execution_count": null,
   "metadata": {},
   "outputs": [],
   "source": []
  },
  {
   "cell_type": "code",
   "execution_count": null,
   "metadata": {},
   "outputs": [],
   "source": []
  }
 ],
 "metadata": {
  "kernelspec": {
   "display_name": "Python 3",
   "language": "python",
   "name": "python3"
  },
  "language_info": {
   "codemirror_mode": {
    "name": "ipython",
    "version": 3
   },
   "file_extension": ".py",
   "mimetype": "text/x-python",
   "name": "python",
   "nbconvert_exporter": "python",
   "pygments_lexer": "ipython3",
   "version": "3.7.4"
  }
 },
 "nbformat": 4,
 "nbformat_minor": 2
}
